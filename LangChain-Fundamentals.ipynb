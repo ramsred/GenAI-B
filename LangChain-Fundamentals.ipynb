{
 "cells": [
  {
   "cell_type": "markdown",
   "id": "6d52bcf7",
   "metadata": {},
   "source": [
    "### 1. LLMs (Large Language Models)\n",
    "    •Wraps models like OpenAI, Anthropic, Hugging Face, etc.\n",
    "    •Provides standardized interfaces and API calls.\n"
   ]
  },
  {
   "cell_type": "code",
   "execution_count": 34,
   "id": "d8075144",
   "metadata": {},
   "outputs": [],
   "source": [
    "from langchain_openai import ChatOpenAI\n",
    "\n",
    "llm=ChatOpenAI(model=\"gpt-4o\")"
   ]
  },
  {
   "cell_type": "code",
   "execution_count": null,
   "id": "0070d468",
   "metadata": {},
   "outputs": [],
   "source": []
  },
  {
   "attachments": {},
   "cell_type": "markdown",
   "id": "65d0fb97",
   "metadata": {},
   "source": [
    "## 2.Prompts\n",
    "    •Templates that dynamically construct queries for LLMs.\n",
    "    •Can include variables ({input}) and instructions.\n"
   ]
  },
  {
   "cell_type": "code",
   "execution_count": 35,
   "id": "8dcec8cd",
   "metadata": {},
   "outputs": [],
   "source": [
    "from langchain_core.prompts import ChatPromptTemplate\n",
    "prompt = ChatPromptTemplate.from_messages(\n",
    "    [(\"user\", \"Tell me a {company_name} tagline for this.I do transport some machine tools.\")],\n",
    ")"
   ]
  },
  {
   "cell_type": "code",
   "execution_count": null,
   "id": "8b704626",
   "metadata": {},
   "outputs": [],
   "source": []
  },
  {
   "cell_type": "code",
   "execution_count": null,
   "id": "53a7303b",
   "metadata": {},
   "outputs": [],
   "source": [
    "prompt(any input variables replace dynamically ) -> llm - > JsonOutputParser()"
   ]
  },
  {
   "attachments": {},
   "cell_type": "markdown",
   "id": "31d52736",
   "metadata": {},
   "source": [
    "### 3.Chains\n",
    "    •Combine LLM + Prompt + other components into a workflow.\n",
    "    •Most common: LLMChain"
   ]
  },
  {
   "cell_type": "code",
   "execution_count": 36,
   "id": "3aab5da4",
   "metadata": {},
   "outputs": [],
   "source": [
    "from langchain.chains import LLMChain\n",
    "legacy_chain = LLMChain(llm =llm, prompt=prompt)\n"
   ]
  },
  {
   "cell_type": "code",
   "execution_count": 37,
   "id": "6bf0ab8f",
   "metadata": {},
   "outputs": [],
   "source": [
    "legacy_result = legacy_chain({\"company_name\": \"sea tools\"})"
   ]
  },
  {
   "cell_type": "code",
   "execution_count": 38,
   "id": "05d3eb02",
   "metadata": {},
   "outputs": [
    {
     "data": {
      "text/plain": [
       "{'company_name': 'sea tools',\n",
       " 'text': '\"Seamlessly Navigating Your Machine Tools Across Waters.\"'}"
      ]
     },
     "execution_count": 38,
     "metadata": {},
     "output_type": "execute_result"
    }
   ],
   "source": [
    "legacy_result"
   ]
  },
  {
   "cell_type": "code",
   "execution_count": 6,
   "id": "3b59a4d1",
   "metadata": {},
   "outputs": [
    {
     "name": "stderr",
     "output_type": "stream",
     "text": [
      "/var/folders/91/s6b95dhx7q33x589x_2pm1x40000gn/T/ipykernel_71300/814955422.py:1: LangChainDeprecationWarning: The method `Chain.run` was deprecated in langchain 0.1.0 and will be removed in 1.0. Use :meth:`~invoke` instead.\n",
      "  legacy_chain.run(\"funny\")\n"
     ]
    },
    {
     "data": {
      "text/plain": [
       "'Why did the scarecrow win an award?\\n\\nBecause he was outstanding in his field!'"
      ]
     },
     "execution_count": 6,
     "metadata": {},
     "output_type": "execute_result"
    }
   ],
   "source": [
    "legacy_chain.run(\"funny\")"
   ]
  },
  {
   "cell_type": "code",
   "execution_count": 39,
   "id": "3a63bdf8",
   "metadata": {},
   "outputs": [
    {
     "data": {
      "text/plain": [
       "{'company_name': 'Planets',\n",
       " 'text': '\"Planets: Your Trusted Orbit for Precision Tool Transport.\"'}"
      ]
     },
     "execution_count": 39,
     "metadata": {},
     "output_type": "execute_result"
    }
   ],
   "source": [
    "legacy_chain.invoke(\"Planets\")"
   ]
  },
  {
   "cell_type": "markdown",
   "id": "8f216609",
   "metadata": {},
   "source": [
    "### 4. Tools\n",
    "    •External functions the LLM can call (e.g., search, calculator, API).\n",
    "    •Used by agents.\n"
   ]
  },
  {
   "cell_type": "code",
   "execution_count": 51,
   "id": "df88c201",
   "metadata": {},
   "outputs": [],
   "source": [
    "from langchain.tools import Tool\n",
    "\n",
    "def get_weather(location: str):\n",
    "#     try to add weather api or any other api for calling. realtime weather\n",
    "    \n",
    "    return \"Sunny in \" + location\n",
    "\n",
    "tool = Tool(name=\"WeatherTool\", func=get_weather, description=\"Gets weather info.\")\n",
    "\n",
    "def get_realtime_events(input:str):\n",
    "#     any api access\n",
    "    return \"Donal Trump\"\n",
    "\n",
    "real_tool = Tool(name=\"RealEventsTool\", func=get_realtime_events, description=\"Gets real events info.\")\n"
   ]
  },
  {
   "cell_type": "code",
   "execution_count": null,
   "id": "7458a395",
   "metadata": {},
   "outputs": [],
   "source": []
  },
  {
   "cell_type": "markdown",
   "id": "21b0e750",
   "metadata": {},
   "source": [
    "### 5.Agents\n",
    "    •Decision-makers that use LLMs to choose tools and actions.\n",
    "    •Powerful for building autonomous workflows (e.g., “search → summarize → email”).\n"
   ]
  },
  {
   "cell_type": "code",
   "execution_count": 50,
   "id": "61efb4b2",
   "metadata": {},
   "outputs": [
    {
     "name": "stdout",
     "output_type": "stream",
     "text": [
      "\n",
      "\n",
      "\u001b[1m> Entering new AgentExecutor chain...\u001b[0m\n",
      "\u001b[32;1m\u001b[1;3mTo answer the question about who won the 2024 USA elections, I need to check for real-time events or updates related to the elections. \n",
      "\n",
      "Action: RealEventsTool\n",
      "Action Input: 2024 USA elections results\u001b[0m\n",
      "Observation: \u001b[33;1m\u001b[1;3mDonal Trump\u001b[0m\n",
      "Thought:\u001b[32;1m\u001b[1;3mI now know the final answer.\n",
      "\n",
      "Final Answer: Donald Trump won the 2024 USA elections.\u001b[0m\n",
      "\n",
      "\u001b[1m> Finished chain.\u001b[0m\n"
     ]
    },
    {
     "data": {
      "text/plain": [
       "'Donald Trump won the 2024 USA elections.'"
      ]
     },
     "execution_count": 50,
     "metadata": {},
     "output_type": "execute_result"
    }
   ],
   "source": [
    "from langchain.agents import initialize_agent, AgentType\n",
    "\n",
    "agent = initialize_agent(\n",
    "    tools=[tool,real_tool],\n",
    "    llm=llm,\n",
    "    agent=AgentType.ZERO_SHOT_REACT_DESCRIPTION,\n",
    "    verbose=True\n",
    ")\n",
    "\n",
    "agent.run(\"Who won the elections in 2024 USA?\")\n"
   ]
  },
  {
   "cell_type": "code",
   "execution_count": null,
   "id": "731ff53b",
   "metadata": {},
   "outputs": [],
   "source": [
    "ReAct Framwork(which is nothing but prompts) = Reasoning + Acting"
   ]
  },
  {
   "cell_type": "code",
   "execution_count": null,
   "id": "7717972b",
   "metadata": {},
   "outputs": [],
   "source": [
    "\n",
    "\n",
    "think or make plan === step1\n",
    "                        step2\n",
    "                        step3\n",
    "action -step1\n",
    "observe -output of step1"
   ]
  },
  {
   "cell_type": "code",
   "execution_count": null,
   "id": "ab777136",
   "metadata": {},
   "outputs": [],
   "source": [
    "ReAct ==== you will get a prompt you need to make steps very carefully and execute one step at a time \n",
    "and observe at the same time and if you think you have answer stop it or terminate it.\n",
    "\n",
    "agent is doing making the prompt: give me stept to how to acheive this going to boston - >LLMs ->\n",
    "    you can make reservation flight ticket\n",
    "    you can book a ticket amtrack \n",
    "    you can book a ticket for greyhound\n",
    "    \n",
    "1)you can make reservation flight ticket - >llm - > \n",
    "2)"
   ]
  },
  {
   "cell_type": "markdown",
   "id": "cd7ac538",
   "metadata": {},
   "source": [
    "### 6.Document Loaders\n",
    "    •Load text data from PDFs, CSVs, Notion, websites, etc.\n"
   ]
  },
  {
   "cell_type": "code",
   "execution_count": 52,
   "id": "2a1587b6",
   "metadata": {},
   "outputs": [],
   "source": [
    "from langchain.document_loaders import PyPDFLoader\n",
    "loader = PyPDFLoader(\"/Users/rams/Downloads/The Staff Engineers Path.pdf\")\n",
    "docs = loader.load()\n"
   ]
  },
  {
   "cell_type": "code",
   "execution_count": null,
   "id": "986d6768",
   "metadata": {},
   "outputs": [],
   "source": []
  },
  {
   "cell_type": "code",
   "execution_count": null,
   "id": "6896ce06",
   "metadata": {},
   "outputs": [],
   "source": []
  },
  {
   "cell_type": "markdown",
   "id": "171e6b6a",
   "metadata": {},
   "source": [
    "### 7.Text Splitters\n",
    "    •Break long documents into chunks for LLM processing (important for RAG).\n"
   ]
  },
  {
   "cell_type": "code",
   "execution_count": 53,
   "id": "f9af1a7f",
   "metadata": {},
   "outputs": [],
   "source": [
    "from langchain.text_splitter import RecursiveCharacterTextSplitter\n",
    "splitter = RecursiveCharacterTextSplitter(chunk_size=500, chunk_overlap=50)\n",
    "chunks = splitter.split_documents(docs)\n"
   ]
  },
  {
   "cell_type": "code",
   "execution_count": 54,
   "id": "fc36776c",
   "metadata": {},
   "outputs": [
    {
     "data": {
      "text/plain": [
       "[Document(metadata={'producer': 'calibre 3.32.0 [https://calibre-ebook.com]', 'creator': 'calibre 3.32.0 [https://calibre-ebook.com]', 'creationdate': '2025-06-24T12:00:04+00:00', 'author': 'Reilly, Tanya;', 'title': \"The Staff Engineer's Path\", 'source': '/Users/rams/Downloads/The Staff Engineers Path.pdf', 'total_pages': 439, 'page': 1, 'page_label': '2'}, page_content='Praise\\tfor\\t\\nThe\\tStaff\\tEngineer’s\\tPath\\nThe\\tbook\\tI\\twish\\tI’d\\thad\\twhen\\tI\\tstepped\\tup\\tto\\tprincipal\\tengineer.\\tIf\\tyou\\tare\\nwondering\\twhat\\tStaff+\\tmeans,\\tand\\thow\\tto\\tbe\\tsuccessful\\tin\\tthe\\trole\\tin\\tyour\\norganization,\\tTanya\\thas\\tlaid\\tout\\tthe\\tpath,\\twith\\tlots\\tof\\tpractical,\\tinsightful\\nadvice\\tfor\\tyou.\\tThis\\tbook\\twill\\tprovide\\tthe\\ttools\\tto\\tenable\\tyou\\tto\\tthrive\\t\\nin\\ta\\ntech\\ttrack\\n\\trole,\\tacting\\twith\\tinfluence\\tand\\timpact.\\n—\\nSarah\\tWells,\\tindependent\\tconsultant\\tand\\tauthor,\\t\\nformer\\tprincipal\\tengineer\\tat\\tthe\\t\\nFinancial\\tTimes'),\n",
       " Document(metadata={'producer': 'calibre 3.32.0 [https://calibre-ebook.com]', 'creator': 'calibre 3.32.0 [https://calibre-ebook.com]', 'creationdate': '2025-06-24T12:00:04+00:00', 'author': 'Reilly, Tanya;', 'title': \"The Staff Engineer's Path\", 'source': '/Users/rams/Downloads/The Staff Engineers Path.pdf', 'total_pages': 439, 'page': 1, 'page_label': '2'}, page_content='former\\tprincipal\\tengineer\\tat\\tthe\\t\\nFinancial\\tTimes\\nThis\\tbook\\tfeels\\tlike\\tthe\\tmissing\\tmanual\\tfor\\tmy\\twhole\\tcareer.\\tIt’s\\tamazingly\\nreassuring\\tto\\tsee\\tthe\\tambiguity\\tof\\tthe\\trole\\tlaid\\tout\\tin\\tprint,\\talong\\twith\\t\\ngreat\\nspecific\\tguidance\\n\\ton\\ttime\\tmanagement,\\tconsensus\\tbuilding,\\tetc.\\t\\nI’m\\tgoing\\tto\\ncite\\tthis\\ta\\tlot.\\n—\\nTitus\\tWinters,\\tprincipal\\tengineer,\\tGoogle,\\tand\\t\\ncoauthor\\tof\\t\\nSoftware\\tEngineering\\tat\\tGoogle\\nTanya\\tis\\tthe\\tperfect\\tauthor\\tfor\\tthis\\texceptional\\tguide\\tto\\tnavigating\\tthe\\tmurky'),\n",
       " Document(metadata={'producer': 'calibre 3.32.0 [https://calibre-ebook.com]', 'creator': 'calibre 3.32.0 [https://calibre-ebook.com]', 'creationdate': '2025-06-24T12:00:04+00:00', 'author': 'Reilly, Tanya;', 'title': \"The Staff Engineer's Path\", 'source': '/Users/rams/Downloads/The Staff Engineers Path.pdf', 'total_pages': 439, 'page': 1, 'page_label': '2'}, page_content='role\\tof\\tstaff-plus\\tengineering.\\tHer\\tdeep,\\tdirect\\texperience\\t\\ncomes\\tthrough\\tin\\nevery\\tsection\\tand\\ttaught\\tme\\ta\\tgreat\\tdeal.\\n—\\nWill\\tLarson,\\tCTO,\\tCalm,\\tand\\tauthor\\tof\\t\\nStaff\\tEngineer\\nThe\\tjob\\tof\\tsenior\\tleadership\\tas\\tan\\tindividual\\tcontributor\\thas\\tlong\\tbeen\\nambiguous\\tand\\tdifficult\\tto\\tdefine,\\tand\\tthis\\tbook\\tis\\ta\\tmuch-needed\\tguide\\ton\\nbeing\\tsuccessful\\tin\\ta\\trelatively\\tnew\\trole\\tto\\tour\\tindustry.\\tTanya\\tdoes\\t\\nan\\nexcellent\\n\\tjob\\tbringing\\tlarge-company\\tperspective\\tand\\tscaling\\tcompany\\nchallenges'),\n",
       " Document(metadata={'producer': 'calibre 3.32.0 [https://calibre-ebook.com]', 'creator': 'calibre 3.32.0 [https://calibre-ebook.com]', 'creationdate': '2025-06-24T12:00:04+00:00', 'author': 'Reilly, Tanya;', 'title': \"The Staff Engineer's Path\", 'source': '/Users/rams/Downloads/The Staff Engineers Path.pdf', 'total_pages': 439, 'page': 1, 'page_label': '2'}, page_content='challenges\\n\\tfor\\ta\\trounded\\tview\\ton\\thow\\tto\\tbe\\ta\\tsuccessful\\tstaff\\tengineer.\\n—\\nSilvia\\tBotros,\\tprincipal\\tengineer\\tand\\t\\ncoauthor\\tof\\t\\nHigh\\tPerformance\\tMySQL\\n,\\t4th\\tedition\\nWhen\\tyou\\treach\\tnear\\tthe\\ttop\\tof\\tthe\\tindividual-contributor\\tscale,\\tyou’re\\tgiven\\na\\tmetaphorical\\tcompass\\tand\\ta\\tdestination.\\tHow\\tyou\\tget\\tthere\\tis\\tyour\\nproblem.\\tHow\\tyou\\tlead\\tthere\\tis\\teverybody’s\\tproblem.\\tTanya\\toffers\\ta\\tsolid\\nframework,\\ta\\tmapping\\tapproach,\\tto\\thelp\\tyou\\tlead\\tfrom\\t“here”\\tto\\t“there.”'),\n",
       " Document(metadata={'producer': 'calibre 3.32.0 [https://calibre-ebook.com]', 'creator': 'calibre 3.32.0 [https://calibre-ebook.com]', 'creationdate': '2025-06-24T12:00:04+00:00', 'author': 'Reilly, Tanya;', 'title': \"The Staff Engineer's Path\", 'source': '/Users/rams/Downloads/The Staff Engineers Path.pdf', 'total_pages': 439, 'page': 1, 'page_label': '2'}, page_content='This\\tbook\\toffers\\ta\\tsolid\\tanchor\\tfor\\tthose\\tnew\\tto\\tthe\\tupper\\tlevels\\tof\\t\\nindividual\\ncontributors,\\tand\\tnew\\tperspectives\\tfor\\tthose\\twith\\t\\nmore\\texperience.\\n\\tStaff\\nengineer,\\tknow\\tthyself.\\n—\\nIzar\\tTarandach,\\tprincipal\\tsecurity\\tarchitect\\tand'),\n",
       " Document(metadata={'producer': 'calibre 3.32.0 [https://calibre-ebook.com]', 'creator': 'calibre 3.32.0 [https://calibre-ebook.com]', 'creationdate': '2025-06-24T12:00:04+00:00', 'author': 'Reilly, Tanya;', 'title': \"The Staff Engineer's Path\", 'source': '/Users/rams/Downloads/The Staff Engineers Path.pdf', 'total_pages': 439, 'page': 2, 'page_label': '3'}, page_content='coauthor\\tof\\t\\nThreat\\tModeling\\nTanya\\tReilly\\tcaptures\\twith\\teerie\\taccuracy\\tthe\\tsinking\\tfeeling\\tI\\texperienced\\nwhen\\tI\\tfirst\\tbecame\\tthe\\t“someone”\\tin\\t“someone\\tshould\\tdo\\tsomething.”\\t\\nThis\\tbook\\tis\\ta\\tdetailed\\texploration\\tof\\twhat\\tthat\\tactually\\tmeans\\tfor\\t\\nfolks\\tat\\tthe\\nstaff\\tengineer\\tlevel.\\n—\\nNiall\\tRichard\\tMurphy,\\tfounder,\\tCEO,\\tand\\tcoauthor\\tof\\t\\nReliable\\tMachine\\tLearning\\n\\tand\\t\\nSite\\tReliability\\tEngineering\\nIn\\t\\nThe\\tStaff\\tEngineer’s\\tPath\\n,\\tTanya\\tReilly\\thas\\tbrought\\tdesperately\\tneeded'),\n",
       " Document(metadata={'producer': 'calibre 3.32.0 [https://calibre-ebook.com]', 'creator': 'calibre 3.32.0 [https://calibre-ebook.com]', 'creationdate': '2025-06-24T12:00:04+00:00', 'author': 'Reilly, Tanya;', 'title': \"The Staff Engineer's Path\", 'source': '/Users/rams/Downloads/The Staff Engineers Path.pdf', 'total_pages': 439, 'page': 2, 'page_label': '3'}, page_content=',\\tTanya\\tReilly\\thas\\tbrought\\tdesperately\\tneeded\\nclarity\\tto\\tthe\\tambiguous\\tand\\toften\\tmisunderstood\\tquestion\\tof\\thow\\tto\\tbe\\ta\\nsenior\\ttechnical\\tleader\\twithout\\tdirect\\treports.\\tEvery\\tpage\\tis\\tchock\\tfull\\tof\\nvaluable\\n\\tinsights\\tand\\tactionable\\tadvice\\tfor\\tnavigating\\tyour\\trole,\\tyour\\torg,\\nand\\tcarving\\tout\\tyour\\tcareer\\tpath—all\\tdelivered\\tin\\tTanya’s\\ttrademark\\twitty,\\ninsightful,\\tand\\tdown-to-earth\\tstyle.\\tThis\\tbook\\tis\\ta\\tmasterpiece.\\n—\\nKatie\\tSylor-Miller,\\tsenior\\tstaff\\tfrontend\\tarchitect,\\tEtsy'),\n",
       " Document(metadata={'producer': 'calibre 3.32.0 [https://calibre-ebook.com]', 'creator': 'calibre 3.32.0 [https://calibre-ebook.com]', 'creationdate': '2025-06-24T12:00:04+00:00', 'author': 'Reilly, Tanya;', 'title': \"The Staff Engineer's Path\", 'source': '/Users/rams/Downloads/The Staff Engineers Path.pdf', 'total_pages': 439, 'page': 2, 'page_label': '3'}, page_content='If\\tyou’re\\ta\\tsenior\\tengineer\\twondering\\twhat\\tthe\\tnext\\tlevel\\tis—a\\tstaff-level\\nengineer\\tor\\ta\\tmanager\\tof\\tstaff\\tengineers—this\\tbook\\tis\\tfor\\tyou.\\t\\nIt\\tcovers\\tso\\nmany\\tof\\n\\tthe\\tthings\\tno\\tone\\ttells\\tyou\\tabout\\tthis\\trole—\\nthings\\tthat\\ttake\\n\\tlong\\nyears,\\teven\\twith\\tgreat\\tmentors,\\tto\\tdiscover\\ton\\tyour\\town.\\t\\nIt\\toffers\\nobservations,\\n\\tmental\\tmodels,\\tand\\tfirsthand\\texperiences\\tabout\\t\\nthe\\tstaff\\nengineer\\trole\\tin\\ta\\tmore\\tdistilled\\tway\\tthan\\tany\\tother\\tbook\\thas\\tcovered\\tbefore.\\n—\\nGergely\\tOrosz,\\tauthor\\tof\\t\\nThe\\tPragmatic\\tEngineer'),\n",
       " Document(metadata={'producer': 'calibre 3.32.0 [https://calibre-ebook.com]', 'creator': 'calibre 3.32.0 [https://calibre-ebook.com]', 'creationdate': '2025-06-24T12:00:04+00:00', 'author': 'Reilly, Tanya;', 'title': \"The Staff Engineer's Path\", 'source': '/Users/rams/Downloads/The Staff Engineers Path.pdf', 'total_pages': 439, 'page': 3, 'page_label': '4'}, page_content='The\\tStaff\\t\\nEngineer’s\\tPath\\nA\\tGuide\\tfor\\tIndividual\\tContributors\\t\\nNavigating\\tGrowth\\nand\\tChange\\nTanya\\tReilly'),\n",
       " Document(metadata={'producer': 'calibre 3.32.0 [https://calibre-ebook.com]', 'creator': 'calibre 3.32.0 [https://calibre-ebook.com]', 'creationdate': '2025-06-24T12:00:04+00:00', 'author': 'Reilly, Tanya;', 'title': \"The Staff Engineer's Path\", 'source': '/Users/rams/Downloads/The Staff Engineers Path.pdf', 'total_pages': 439, 'page': 4, 'page_label': '5'}, page_content='The\\tStaff\\tEngineer’s\\tPath\\nby\\t\\nTanya\\t\\nReilly\\nCopyright\\t©\\t2022\\tTanya\\tReilly.\\tAll\\trights\\treserved.\\nPrinted\\tin\\tthe\\tUnited\\tStates\\tof\\tAmerica.\\nPublished\\tby\\t\\nO’Reilly\\tMedia,\\tInc.\\n,\\t1005\\tGravenstein\\tHighway\\tNorth,\\nSebastopol,\\tCA\\t95472.\\nO’Reilly\\tbooks\\tmay\\tbe\\tpurchased\\tfor\\teducational,\\tbusiness,\\tor\\tsales\\tpromotional\\nuse.\\tOnline\\teditions\\tare\\talso\\tavailable\\tfor\\tmost\\ttitles\\t(\\nhttp://oreilly.com\\n).\\tFor\\nmore\\tinformation,\\tcontact\\tour\\tcorporate/institutional\\tsales\\tdepartment:\\t800-998-\\n9938\\tor')]"
      ]
     },
     "execution_count": 54,
     "metadata": {},
     "output_type": "execute_result"
    }
   ],
   "source": [
    "chunks[:10]"
   ]
  },
  {
   "cell_type": "markdown",
   "id": "0d89f499",
   "metadata": {},
   "source": [
    "### 8.Vector Stores\n",
    "    •Store document embeddings for semantic search (FAISS, Chroma, Pinecone, Weaviate).\n"
   ]
  },
  {
   "cell_type": "code",
   "execution_count": null,
   "id": "e8d77ea3",
   "metadata": {},
   "outputs": [],
   "source": []
  },
  {
   "cell_type": "code",
   "execution_count": 20,
   "id": "c95f5a33",
   "metadata": {},
   "outputs": [],
   "source": [
    "from langchain.vectorstores import FAISS\n",
    "from langchain.embeddings import OpenAIEmbeddings\n",
    "\n",
    "store = FAISS.from_documents(chunks, OpenAIEmbeddings(model='text-embedding-3-small'))\n",
    "retrieved = store.similarity_search(\"LangChain architecture\")\n"
   ]
  },
  {
   "cell_type": "code",
   "execution_count": 19,
   "id": "827a6718",
   "metadata": {},
   "outputs": [],
   "source": [
    "# !pip install faiss-cpu"
   ]
  },
  {
   "cell_type": "markdown",
   "id": "77ca4196",
   "metadata": {},
   "source": [
    "### 9.Retrievers\n",
    "    •Abstraction over vector store or other sources.\n",
    "    •Used in RAG pipelines to fetch relevant context.\n"
   ]
  },
  {
   "cell_type": "code",
   "execution_count": null,
   "id": "f08e53e8",
   "metadata": {},
   "outputs": [],
   "source": [
    "retriever = store.as_retriever()\n",
    "retriever.get_relevant_documents(\"How to use agents?\")\n"
   ]
  },
  {
   "cell_type": "code",
   "execution_count": null,
   "id": "c490e428",
   "metadata": {},
   "outputs": [],
   "source": []
  },
  {
   "cell_type": "markdown",
   "id": "2d8d081e",
   "metadata": {},
   "source": [
    "### 10.Memory\n",
    "    •Maintains conversation state across turns.\n"
   ]
  },
  {
   "cell_type": "code",
   "execution_count": 55,
   "id": "9e724d5e",
   "metadata": {},
   "outputs": [
    {
     "name": "stderr",
     "output_type": "stream",
     "text": [
      "/var/folders/91/s6b95dhx7q33x589x_2pm1x40000gn/T/ipykernel_71300/1023760234.py:3: LangChainDeprecationWarning: Please see the migration guide at: https://python.langchain.com/docs/versions/migrating_memory/\n",
      "  memory = ConversationBufferMemory()\n"
     ]
    }
   ],
   "source": [
    "from langchain.memory import ConversationBufferMemory\n",
    "\n",
    "memory = ConversationBufferMemory()\n",
    "chain = LLMChain(llm=llm, prompt=prompt, memory=memory)\n"
   ]
  },
  {
   "cell_type": "code",
   "execution_count": 56,
   "id": "a4902c2d",
   "metadata": {},
   "outputs": [
    {
     "data": {
      "text/plain": [
       "{'company_name': 'kid', 'history': '', 'text': '\"Hauling the Cool Tools!\"'}"
      ]
     },
     "execution_count": 56,
     "metadata": {},
     "output_type": "execute_result"
    }
   ],
   "source": [
    "chain.invoke(\"kid\")"
   ]
  },
  {
   "cell_type": "code",
   "execution_count": 58,
   "id": "f6bc6f44",
   "metadata": {},
   "outputs": [
    {
     "data": {
      "text/plain": [
       "{'company_name': 'Bus',\n",
       " 'history': 'Human: kid\\nAI: \"Hauling the Cool Tools!\"\\nHuman: what kid tageline you know ?\\nAI: Creating a catchy and kid-friendly tagline for transporting machine tools can be a fun way to make the concept more engaging. Here\\'s a suggestion:\\n\\n\"Zoomin\\' with Machine Movers Magic!\" \\n\\nThis tagline combines a sense of movement and excitement (\"Zoomin\\'\") with a whimsical twist (\"Magic\") to capture children\\'s attention and imagination.',\n",
       " 'text': '\"Driving Precision: Transporting Your Tools with Care and Reliability\"'}"
      ]
     },
     "execution_count": 58,
     "metadata": {},
     "output_type": "execute_result"
    }
   ],
   "source": [
    "chain.invoke(\"Bus\")"
   ]
  },
  {
   "cell_type": "code",
   "execution_count": 59,
   "id": "1ba0d771",
   "metadata": {},
   "outputs": [
    {
     "data": {
      "text/plain": [
       "{'company_name': 'tell me what do you in past ?',\n",
       " 'history': 'Human: kid\\nAI: \"Hauling the Cool Tools!\"\\nHuman: what kid tageline you know ?\\nAI: Creating a catchy and kid-friendly tagline for transporting machine tools can be a fun way to make the concept more engaging. Here\\'s a suggestion:\\n\\n\"Zoomin\\' with Machine Movers Magic!\" \\n\\nThis tagline combines a sense of movement and excitement (\"Zoomin\\'\") with a whimsical twist (\"Magic\") to capture children\\'s attention and imagination.\\nHuman: Bus\\nAI: \"Driving Precision: Transporting Your Tools with Care and Reliability\"',\n",
       " 'text': '\"Delivering Precision, Transporting Excellence.\"'}"
      ]
     },
     "execution_count": 59,
     "metadata": {},
     "output_type": "execute_result"
    }
   ],
   "source": [
    "chain.invoke(\"tell me what do you in past ?\")"
   ]
  },
  {
   "cell_type": "code",
   "execution_count": null,
   "id": "fe303a3a",
   "metadata": {},
   "outputs": [],
   "source": [
    "from langchain_core.output_parsers import StrOutputParser"
   ]
  }
 ],
 "metadata": {
  "kernelspec": {
   "display_name": "venv",
   "language": "python",
   "name": "venv"
  },
  "language_info": {
   "codemirror_mode": {
    "name": "ipython",
    "version": 3
   },
   "file_extension": ".py",
   "mimetype": "text/x-python",
   "name": "python",
   "nbconvert_exporter": "python",
   "pygments_lexer": "ipython3",
   "version": "3.13.2"
  }
 },
 "nbformat": 4,
 "nbformat_minor": 5
}
